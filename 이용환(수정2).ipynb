{
 "cells": [
  {
   "attachments": {},
   "cell_type": "markdown",
   "metadata": {},
   "source": [
    "## 1번\n",
    "반지름 값을 입력받아 원의 넓이를 구하여 출력하는 프로그램을 구현하세요. π는 3.141592 입니다. 모듈을 사용하여도 됩니다~!!"
   ]
  },
  {
   "cell_type": "code",
   "execution_count": 1,
   "metadata": {},
   "outputs": [
    {
     "name": "stdout",
     "output_type": "stream",
     "text": [
      "원의 넓이는: 28.274328\n"
     ]
    }
   ],
   "source": [
    "def S(x):\n",
    "    return x * x * 3.141592\n",
    "\n",
    "num  = (int(input('반지름값 입력:' )))\n",
    "print(f'원의 넓이는:', S(num))"
   ]
  },
  {
   "attachments": {},
   "cell_type": "markdown",
   "metadata": {},
   "source": [
    "## 2번\n",
    "태양계는 수성, 금성, 지구, 화성, 목성, 토성, 천왕성, 해왕성으로 구성됩니다. 영어 이름은 Mercury, Venus, Earth, Mars, Jupiter,  Saturn, Uranus, Neptune 입니다.  행성의 영어 이름을 입력하면 한글 행성 이름이 출력 되는 프로그램을 구현하세요."
   ]
  },
  {
   "cell_type": "code",
   "execution_count": 2,
   "metadata": {},
   "outputs": [
    {
     "name": "stdout",
     "output_type": "stream",
     "text": [
      "수성\n"
     ]
    }
   ],
   "source": [
    "Planet = { 'Mercury' : '수성' ,\n",
    "          'Venus' : '금성' ,\n",
    "          'Earth' : '지구' ,\n",
    "          'Mars' : '화성' ,\n",
    "          'Jupiter' : '목성' ,\n",
    "          'Saturn' :'토성' ,\n",
    "          'Uranus' :'천왕성' ,\n",
    "          'Neptune' :'해왕성'\n",
    "    }\n",
    "\n",
    "def trans(Eng):\n",
    "    eng = Eng.capitalize()\n",
    "    return print(Planet[eng])\n",
    "\n",
    "trans(input('행성의 영어이름을 입력하시오:'))"
   ]
  },
  {
   "attachments": {},
   "cell_type": "markdown",
   "metadata": {},
   "source": [
    "## 3번\n",
    " 입력한 영어 문자열의 단어의 수를 출력하고 입력된 단어를 짝수로 대문자로 변경하여 출력하는 프로그램을 구현하세요. 예) I'm going to leave the door open = 7 / \n",
    "I'm GOING to LEAVE the DOOR open"
   ]
  },
  {
   "cell_type": "code",
   "execution_count": 1,
   "metadata": {},
   "outputs": [
    {
     "name": "stdout",
     "output_type": "stream",
     "text": [
      "영어 문자열의 단어수는 :  7\n",
      "I'm GOING to LEAVE the DOOR open "
     ]
    }
   ],
   "source": [
    "Eng_string = input('영어 문자열을 입력하시오')\n",
    "E_S = Eng_string.split(' ')\n",
    "print('영어 문자열의 단어수는 : ', len(E_S))\n",
    "num = 0\n",
    "for i in range(len(E_S)):\n",
    "    num += 1\n",
    "    if (num % 2) != 0 :\n",
    "        print(str(E_S[i]), end = ' ')\n",
    "        continue\n",
    "    elif (num % 2) == 0:\n",
    "        print(str(E_S[i].upper()), end = ' ')\n",
    "        continue\n",
    "    else:\n",
    "        break\n",
    "  "
   ]
  },
  {
   "attachments": {},
   "cell_type": "markdown",
   "metadata": {},
   "source": [
    "## 4번\n",
    "입력한 수를 거꾸로 출력하는 프로그램을 구현하세요. 예) 1 3 5 7 9 --> 9 7 5 3 1"
   ]
  },
  {
   "cell_type": "code",
   "execution_count": 7,
   "metadata": {},
   "outputs": [
    {
     "name": "stdout",
     "output_type": "stream",
     "text": [
      "9 7 5 3 1 "
     ]
    }
   ],
   "source": [
    "num = input('숫자를 입력하시오 (spacebar로 구분)')\n",
    "\n",
    "arr = num.split(' ')\n",
    "x = len(arr)\n",
    "for i in range(x):\n",
    "    print(arr[-(i+1)], end = ' ')\n",
    "    \n"
   ]
  },
  {
   "attachments": {},
   "cell_type": "markdown",
   "metadata": {},
   "source": [
    "## 5번\n",
    "구구단을 수행할 단번호를 입력하면 그 단의 9까지의 결과를 나열하는 프로그램을 입력하세요. 예) 3 --> 3 6 9 12 15 18 21 24 27"
   ]
  },
  {
   "cell_type": "code",
   "execution_count": 5,
   "metadata": {},
   "outputs": [
    {
     "name": "stdout",
     "output_type": "stream",
     "text": [
      "3단 시작 :  3 X 1 =  3 / 3 X 2 =  6 / 3 X 3 =  9 / 3 X 4 = 12 / 3 X 5 = 15 / 3 X 6 = 18 / 3 X 7 = 21 / 3 X 8 = 24 / 3 X 9 = 27 / \n"
     ]
    }
   ],
   "source": [
    "x = int(input('원하시는 단을 입력하시오:'))\n",
    "print(f'{x}단 시작 : ',end=' ')\n",
    "for y in range(1, 10):\n",
    "    print(f'{x} X {y} = {x*y:>2}',end = ' / ')\n",
    "print()"
   ]
  }
 ],
 "metadata": {
  "kernelspec": {
   "display_name": "Python 3",
   "language": "python",
   "name": "python3"
  },
  "language_info": {
   "codemirror_mode": {
    "name": "ipython",
    "version": 3
   },
   "file_extension": ".py",
   "mimetype": "text/x-python",
   "name": "python",
   "nbconvert_exporter": "python",
   "pygments_lexer": "ipython3",
   "version": "3.11.1"
  },
  "orig_nbformat": 4,
  "vscode": {
   "interpreter": {
    "hash": "a3d8f53f1429d27b792a3789224562ddd32c1395c9a9cfbb17b3c19c3b9a493d"
   }
  }
 },
 "nbformat": 4,
 "nbformat_minor": 2
}
