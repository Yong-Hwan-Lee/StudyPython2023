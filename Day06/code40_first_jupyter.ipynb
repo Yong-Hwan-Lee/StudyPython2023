{
 "cells": [
  {
   "attachments": {},
   "cell_type": "markdown",
   "metadata": {},
   "source": [
    "## 첫번째 주피터 노트북"
   ]
  },
  {
   "cell_type": "code",
   "execution_count": 2,
   "metadata": {},
   "outputs": [
    {
     "name": "stdout",
     "output_type": "stream",
     "text": [
      "Hello, Jupyter\n"
     ]
    }
   ],
   "source": [
    "# 여기는 주석\n",
    "print('Hello, Jupyter')"
   ]
  },
  {
   "cell_type": "code",
   "execution_count": 3,
   "metadata": {},
   "outputs": [
    {
     "name": "stdout",
     "output_type": "stream",
     "text": [
      "0 출력\n",
      "1 출력\n",
      "2 출력\n",
      "3 출력\n",
      "4 출력\n"
     ]
    }
   ],
   "source": [
    "for _ in range(5):\n",
    "    print(f'{_} 출력')"
   ]
  }
 ],
 "metadata": {
  "kernelspec": {
   "display_name": "venv",
   "language": "python",
   "name": "python3"
  },
  "language_info": {
   "codemirror_mode": {
    "name": "ipython",
    "version": 3
   },
   "file_extension": ".py",
   "mimetype": "text/x-python",
   "name": "python",
   "nbconvert_exporter": "python",
   "pygments_lexer": "ipython3",
   "version": "3.11.1"
  },
  "orig_nbformat": 4,
  "vscode": {
   "interpreter": {
    "hash": "15ee5ce9a26dc2f906adfb7407e1f582a2c8ccfcff1f0506466688c64da48cf7"
   }
  }
 },
 "nbformat": 4,
 "nbformat_minor": 2
}
